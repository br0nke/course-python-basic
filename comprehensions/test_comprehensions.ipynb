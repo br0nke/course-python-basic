{
 "cells": [
  {
   "cell_type": "code",
   "execution_count": 12,
   "metadata": {},
   "outputs": [
    {
     "name": "stdout",
     "output_type": "stream",
     "text": [
      "[28, 46, 64, 30]\n"
     ]
    }
   ],
   "source": [
    "numbers_list = [14, 23, 2, 5, -3, 32, 15, 3, -59]\n",
    "excluder = map(lambda x: x *2, filter(lambda x: x > 10, numbers_list))\n",
    "print(list(excluder))"
   ]
  },
  {
   "cell_type": "code",
   "execution_count": 13,
   "metadata": {},
   "outputs": [
    {
     "name": "stdout",
     "output_type": "stream",
     "text": [
      "69\n"
     ]
    }
   ],
   "source": [
    "from functools import reduce\n",
    "\n",
    "mega_list = [5, 23, 15, 7, -2, 10, 11]\n",
    "total = reduce(lambda x, y: x+y, mega_list)\n",
    "print(total)"
   ]
  },
  {
   "cell_type": "code",
   "execution_count": 14,
   "metadata": {},
   "outputs": [
    {
     "name": "stdout",
     "output_type": "stream",
     "text": [
      "71\n",
      "33\n",
      "-2\n",
      "11.833333333333334\n",
      "10.0\n"
     ]
    }
   ],
   "source": [
    "import statistics\n",
    "\n",
    "listukas = [6, 33, 14, 13, -2, 7]\n",
    "print(sum(listukas))\n",
    "print(max(listukas))\n",
    "print(min(listukas))\n",
    "print(statistics.mean(listukas))\n",
    "print(statistics.median(listukas))"
   ]
  },
  {
   "cell_type": "code",
   "execution_count": 16,
   "metadata": {},
   "outputs": [
    {
     "name": "stdout",
     "output_type": "stream",
     "text": [
      "[15, 6, 43, 7, -2, 11, 5]\n"
     ]
    }
   ],
   "source": [
    "full_list = [43, 11, 15, 6, 7, -2, 5]\n",
    "\n",
    "action_list = sorted(full_list, key=lambda x: x % 3)\n",
    "\n",
    "print(action_list)"
   ]
  },
  {
   "cell_type": "code",
   "execution_count": 21,
   "metadata": {},
   "outputs": [
    {
     "name": "stdout",
     "output_type": "stream",
     "text": [
      "20.0\n",
      "20.0\n"
     ]
    }
   ],
   "source": [
    "from functools import reduce\n",
    "\n",
    "listeris = [5, 6, 25, -5, 32, 15, 23, 22]\n",
    "\n",
    "rezas = sum(x for x in listeris if x % 2 == 0) / len([x for x in listeris if x % 2 == 0])\n",
    "print(rezas)\n",
    "\n",
    "rezas2 = reduce(lambda x, y: x + y, filter (lambda x: x % 2 == 0, listeris)) / len(list(filter(lambda x: x % 2 == 0, listeris)))\n",
    "print(rezas2)"
   ]
  },
  {
   "cell_type": "code",
   "execution_count": 22,
   "metadata": {},
   "outputs": [
    {
     "name": "stdout",
     "output_type": "stream",
     "text": [
      "8\n"
     ]
    }
   ],
   "source": [
    "def test(i, j):\n",
    "    if i == 0:\n",
    "        return j\n",
    "    else:\n",
    "        return test(i - 1, i + j)\n",
    "\n",
    "print (test(2, 5))"
   ]
  },
  {
   "cell_type": "code",
   "execution_count": 1,
   "metadata": {},
   "outputs": [
    {
     "name": "stdout",
     "output_type": "stream",
     "text": [
      "L\n",
      "a\n",
      "b\n",
      "a\n",
      "s\n",
      ",\n",
      " \n",
      "p\n",
      "a\n",
      "s\n",
      "a\n",
      "u\n",
      "l\n",
      "i\n",
      "!\n"
     ]
    }
   ],
   "source": [
    "eilute = \"Labas, pasauli!\"\n",
    "for simbolis in eilute:\n",
    "    print(simbolis)"
   ]
  },
  {
   "cell_type": "code",
   "execution_count": null,
   "metadata": {},
   "outputs": [],
   "source": []
  }
 ],
 "metadata": {
  "kernelspec": {
   "display_name": "venv",
   "language": "python",
   "name": "python3"
  },
  "language_info": {
   "codemirror_mode": {
    "name": "ipython",
    "version": 3
   },
   "file_extension": ".py",
   "mimetype": "text/x-python",
   "name": "python",
   "nbconvert_exporter": "python",
   "pygments_lexer": "ipython3",
   "version": "3.12.1"
  }
 },
 "nbformat": 4,
 "nbformat_minor": 2
}
