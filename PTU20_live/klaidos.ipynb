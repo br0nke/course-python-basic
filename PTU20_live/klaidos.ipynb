{
 "cells": [
  {
   "cell_type": "code",
   "execution_count": 9,
   "metadata": {},
   "outputs": [
    {
     "name": "stdout",
     "output_type": "stream",
     "text": [
      "klaida\n"
     ]
    }
   ],
   "source": [
    "try:\n",
    "    rez = 10 / \"5\"\n",
    "except Exception:\n",
    "    print('klaida')\n",
    "else:\n",
    "    print(rez)"
   ]
  },
  {
   "cell_type": "code",
   "execution_count": 15,
   "metadata": {},
   "outputs": [
    {
     "name": "stdout",
     "output_type": "stream",
     "text": [
      "2.0\n",
      "baigem dalinti\n"
     ]
    }
   ],
   "source": [
    "try:\n",
    "    rez = 10 / 5\n",
    "except ZeroDivisionError:\n",
    "    print('klaida: negalima dalinti iš nulio')\n",
    "except TypeError:\n",
    "    print('klaida: netinkamas kintamojo tipas')\n",
    "except Exception as error:\n",
    "    print(f'klaida: {error.__class__}')\n",
    "else:\n",
    "    print(rez)\n",
    "finally:\n",
    "    print('baigem dalinti')"
   ]
  },
  {
   "cell_type": "code",
   "execution_count": 23,
   "metadata": {},
   "outputs": [
    {
     "name": "stdout",
     "output_type": "stream",
     "text": [
      "Kestas, 40 metų\n",
      "Jonas, 58 metų\n",
      "Koks skirtumas, 333 metų\n"
     ]
    }
   ],
   "source": [
    "import pickle\n",
    "from zmogus import Zmogus\n",
    "\n",
    "try:\n",
    "    with open(\"zmones.pkl\", \"rb\") as zmoniu_failas:\n",
    "        zmones = pickle.load(zmoniu_failas)\n",
    "except Exception as error:\n",
    "    zmones = []\n",
    "    print(f'Nepavyko atidaryti failo, klaida {error.__class__}: {error}')\n",
    "else:\n",
    "    for zmogus in zmones:\n",
    "        print(zmogus)\n"
   ]
  },
  {
   "cell_type": "code",
   "execution_count": 8,
   "metadata": {},
   "outputs": [
    {
     "name": "stdout",
     "output_type": "stream",
     "text": [
      "Result is:  2.7243089426924775e+26\n"
     ]
    }
   ],
   "source": [
    "try:            #klaidu gaudimas\n",
    "    x = int(input(\"First number: \"))\n",
    "    y = int(input(\"second number: \"))\n",
    "    action = x / y\n",
    "except ZeroDivisionError:\n",
    "    print(\"cant divde from 0\")\n",
    "except ValueError:\n",
    "    print(\"Wrong format\")\n",
    "else:\n",
    "    print(\"Result is: \", action)"
   ]
  },
  {
   "cell_type": "code",
   "execution_count": 1,
   "metadata": {},
   "outputs": [
    {
     "name": "stdout",
     "output_type": "stream",
     "text": [
      "You number is accepted! 4\n"
     ]
    }
   ],
   "source": [
    "while True:\n",
    "    try:\n",
    "        number = int(input(\"You positive number here: \"))\n",
    "        if number <= 0:\n",
    "            raise ValueError(\"Number is negative\")\n",
    "        else:\n",
    "            print(\"You number is accepted!\", number)\n",
    "            break\n",
    "    except ValueError as error:\n",
    "        print(\"Klaidos: \", error)"
   ]
  },
  {
   "cell_type": "code",
   "execution_count": 2,
   "metadata": {},
   "outputs": [
    {
     "ename": "TypeError",
     "evalue": "possitive_error() missing 1 required positional argument: 'number1'",
     "output_type": "error",
     "traceback": [
      "\u001b[1;31m---------------------------------------------------------------------------\u001b[0m",
      "\u001b[1;31mTypeError\u001b[0m                                 Traceback (most recent call last)",
      "Cell \u001b[1;32mIn[2], line 9\u001b[0m\n\u001b[0;32m      7\u001b[0m         exit()\n\u001b[0;32m      8\u001b[0m \u001b[38;5;28;01mtry\u001b[39;00m:\n\u001b[1;32m----> 9\u001b[0m     rezas \u001b[38;5;241m=\u001b[39m \u001b[43mpossitive_error\u001b[49m\u001b[43m(\u001b[49m\u001b[43m)\u001b[49m\n\u001b[0;32m     10\u001b[0m \u001b[38;5;28;01mexcept\u001b[39;00m \u001b[38;5;167;01mValueError\u001b[39;00m \u001b[38;5;28;01mas\u001b[39;00m error:\n\u001b[0;32m     11\u001b[0m     \u001b[38;5;28mprint\u001b[39m(\u001b[38;5;124m\"\u001b[39m\u001b[38;5;124mError log: \u001b[39m\u001b[38;5;124m\"\u001b[39m, error)\n",
      "\u001b[1;31mTypeError\u001b[0m: possitive_error() missing 1 required positional argument: 'number1'"
     ]
    }
   ],
   "source": [
    "def possitive_error(number1):\n",
    "    number1 = int(input(\"Your possitive number: \"))\n",
    "    if number1 <= 0:\n",
    "        raise ValueError(\"Number is negative\")\n",
    "    else:\n",
    "        print(\"Number is possitive and accepted!\")\n",
    "        exit()\n",
    "try:\n",
    "    rezas = possitive_error()\n",
    "except ValueError as error:\n",
    "    print(\"Error log: \", error)\n",
    "\n",
    "possitive_error()"
   ]
  }
 ],
 "metadata": {
  "kernelspec": {
   "display_name": "venv",
   "language": "python",
   "name": "python3"
  },
  "language_info": {
   "codemirror_mode": {
    "name": "ipython",
    "version": 3
   },
   "file_extension": ".py",
   "mimetype": "text/x-python",
   "name": "python",
   "nbconvert_exporter": "python",
   "pygments_lexer": "ipython3",
   "version": "3.12.1"
  }
 },
 "nbformat": 4,
 "nbformat_minor": 2
}
